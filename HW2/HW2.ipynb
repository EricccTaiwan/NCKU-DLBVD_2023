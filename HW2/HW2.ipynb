{
  "cells": [
    {
      "cell_type": "code",
      "execution_count": null,
      "metadata": {
        "colab": {
          "base_uri": "https://localhost:8080/"
        },
        "id": "TO9GycxFNQUE",
        "outputId": "b1529126-3653-4881-f9f4-a7bf107f7487"
      },
      "outputs": [
        {
          "output_type": "stream",
          "name": "stdout",
          "text": [
            "Tue Apr  4 23:42:52 2023       \n",
            "+-----------------------------------------------------------------------------+\n",
            "| NVIDIA-SMI 525.85.12    Driver Version: 525.85.12    CUDA Version: 12.0     |\n",
            "|-------------------------------+----------------------+----------------------+\n",
            "| GPU  Name        Persistence-M| Bus-Id        Disp.A | Volatile Uncorr. ECC |\n",
            "| Fan  Temp  Perf  Pwr:Usage/Cap|         Memory-Usage | GPU-Util  Compute M. |\n",
            "|                               |                      |               MIG M. |\n",
            "|===============================+======================+======================|\n",
            "|   0  Tesla T4            Off  | 00000000:00:04.0 Off |                    0 |\n",
            "| N/A   38C    P8     9W /  70W |      0MiB / 15360MiB |      0%      Default |\n",
            "|                               |                      |                  N/A |\n",
            "+-------------------------------+----------------------+----------------------+\n",
            "                                                                               \n",
            "+-----------------------------------------------------------------------------+\n",
            "| Processes:                                                                  |\n",
            "|  GPU   GI   CI        PID   Type   Process name                  GPU Memory |\n",
            "|        ID   ID                                                   Usage      |\n",
            "|=============================================================================|\n",
            "|  No running processes found                                                 |\n",
            "+-----------------------------------------------------------------------------+\n"
          ]
        }
      ],
      "source": [
        "!nvidia-smi"
      ]
    },
    {
      "cell_type": "code",
      "execution_count": null,
      "metadata": {
        "colab": {
          "base_uri": "https://localhost:8080/"
        },
        "id": "Pxm_TtALOIn_",
        "outputId": "c055e9d4-50ec-447d-8b22-dd895550c960"
      },
      "outputs": [
        {
          "output_type": "stream",
          "name": "stdout",
          "text": [
            "Mounted at /content/drive\n"
          ]
        }
      ],
      "source": [
        "from google.colab import drive\n",
        "drive.mount('/content/drive')"
      ]
    },
    {
      "cell_type": "code",
      "execution_count": null,
      "metadata": {
        "id": "OzfuxXk4PX9d"
      },
      "outputs": [],
      "source": [
        "import torch\n",
        "a = torch.Tensor([1000, 1000, 1000]).cuda() ##占用gpu"
      ]
    },
    {
      "cell_type": "markdown",
      "metadata": {
        "id": "Le7KyRKU4rc9"
      },
      "source": [
        "## Problem 1"
      ]
    },
    {
      "cell_type": "code",
      "execution_count": null,
      "metadata": {
        "id": "PhjLGc96WSFE"
      },
      "outputs": [],
      "source": [
        "import torch"
      ]
    },
    {
      "cell_type": "markdown",
      "metadata": {
        "id": "XsY1xCq5FVKS"
      },
      "source": [
        "### (a) Tensor"
      ]
    },
    {
      "cell_type": "markdown",
      "metadata": {
        "id": "i8w_eeTTmKc8"
      },
      "source": [
        "Construct an uninitialized 4x4 matrix:\n",
        "\n",
        "\n",
        "\n"
      ]
    },
    {
      "cell_type": "code",
      "execution_count": null,
      "metadata": {
        "colab": {
          "base_uri": "https://localhost:8080/"
        },
        "id": "iupWY0T38vB2",
        "outputId": "0cadb40b-afdd-4900-ca0d-bd303a71dbdc"
      },
      "outputs": [
        {
          "name": "stdout",
          "output_type": "stream",
          "text": [
            "tensor([[6.1949e-04, 1.9421e+31, 2.7491e+20, 2.3078e-12],\n",
            "        [7.1760e+22, 7.2250e+28, 1.5766e-19, 3.2876e+21],\n",
            "        [2.1259e+20, 6.7866e-07, 2.0682e+20, 1.6706e-07],\n",
            "        [8.4269e-07, 1.3602e-05, 2.6844e+23, 2.3077e-12]])\n"
          ]
        }
      ],
      "source": [
        "# todo\n",
        "x = torch.empty(4,4)\n",
        "print(x)"
      ]
    },
    {
      "cell_type": "markdown",
      "metadata": {
        "id": "6t3ZpPvhmNyR"
      },
      "source": [
        "Construct a randomly initialized 3x3 matrix from a uniform distribution on the interval [0, 10)"
      ]
    },
    {
      "cell_type": "code",
      "execution_count": null,
      "metadata": {
        "colab": {
          "base_uri": "https://localhost:8080/"
        },
        "id": "Eb_e-WVZmTSR",
        "outputId": "4d3ad953-9ab4-4452-e5ea-baa9fa282ff1"
      },
      "outputs": [
        {
          "name": "stdout",
          "output_type": "stream",
          "text": [
            "tensor([[5.7661, 6.0737, 6.8423],\n",
            "        [4.0155, 2.5262, 8.1728],\n",
            "        [6.6278, 1.2100, 1.2804]])\n"
          ]
        }
      ],
      "source": [
        "# todo\n",
        "x = torch.rand(3, 3) * 10\n",
        "print(x)"
      ]
    },
    {
      "cell_type": "markdown",
      "metadata": {
        "id": "IQ-ovXhOmVLy"
      },
      "source": [
        "Construct a 2x2 matrix filled zeros with data type float32:"
      ]
    },
    {
      "cell_type": "code",
      "execution_count": null,
      "metadata": {
        "colab": {
          "base_uri": "https://localhost:8080/"
        },
        "id": "KpmSWypymXF5",
        "outputId": "34847962-ef10-4752-e54f-d147b64a4dc3"
      },
      "outputs": [
        {
          "name": "stdout",
          "output_type": "stream",
          "text": [
            "tensor([[0., 0.],\n",
            "        [0., 0.]])\n"
          ]
        }
      ],
      "source": [
        "# todo\n",
        "x = torch.zeros(2, 2, dtype=torch.float32) \n",
        "print(x)"
      ]
    },
    {
      "cell_type": "markdown",
      "metadata": {
        "id": "PKEXn8g2Y1la"
      },
      "source": [
        "Construct a 2x2 matrix from the normal distribution with zero mean and one std with the same shape as x. \n",
        "\n",
        "y's data type should be float32. \n",
        "\n",
        "Print the size of x and y."
      ]
    },
    {
      "cell_type": "code",
      "execution_count": null,
      "metadata": {
        "colab": {
          "base_uri": "https://localhost:8080/"
        },
        "id": "96HTBfZZZOfF",
        "outputId": "75453615-cd1b-41fc-a787-f802921e66aa"
      },
      "outputs": [
        {
          "name": "stdout",
          "output_type": "stream",
          "text": [
            "tensor([[-6.9537e-01, -5.4797e-01,  4.2345e-01, -2.2056e-01, -9.9755e-02],\n",
            "        [ 1.6010e+00,  7.2585e-01, -2.0806e+00, -5.9513e-01,  2.5426e-01],\n",
            "        [ 2.3437e+00,  2.4131e+00, -4.5736e-01,  1.1293e-01, -7.6007e-01],\n",
            "        [ 7.9150e-01, -8.6718e-01, -1.6552e-01, -7.5984e-01,  7.9783e-01],\n",
            "        [ 3.1929e-01,  1.3523e+00, -5.0696e-01, -1.1333e-01, -1.8334e-03]])\n",
            "Size of x:  torch.Size([5, 5])\n",
            "Size of y:  torch.Size([5, 5])\n"
          ]
        }
      ],
      "source": [
        "x = torch.ones(5, 5, dtype=torch.float64)\n",
        "# todo\n",
        "y = torch.randn_like(x, dtype=torch.float32)\n",
        "print(y)\n",
        "# todo: print the size of x and y\n",
        "print(\"Size of x: \", x.size())\n",
        "print(\"Size of y: \", y.size())"
      ]
    },
    {
      "cell_type": "markdown",
      "metadata": {
        "id": "iNdFynRZnOWR"
      },
      "source": [
        "### (b) Operations"
      ]
    },
    {
      "cell_type": "markdown",
      "metadata": {
        "id": "P_paGZd0aCRd"
      },
      "source": [
        "Addition: Print x + y"
      ]
    },
    {
      "cell_type": "code",
      "execution_count": null,
      "metadata": {
        "colab": {
          "base_uri": "https://localhost:8080/"
        },
        "id": "nMaomyi5m4s7",
        "outputId": "c738a3ff-8f43-4122-bca6-5484a50fec3e"
      },
      "outputs": [
        {
          "name": "stdout",
          "output_type": "stream",
          "text": [
            "tensor([[1., 2.],\n",
            "        [3., 4.]])\n",
            "tensor([[4., 5.],\n",
            "        [6., 7.]])\n",
            "tensor([[ 5.,  7.],\n",
            "        [ 9., 11.]])\n"
          ]
        }
      ],
      "source": [
        "x = torch.tensor([[1., 2.], [3., 4.]])\n",
        "y = torch.arange(4, 8, dtype=torch.float32).reshape(2, 2)\n",
        "print(x)\n",
        "print(y)\n",
        "# todo\n",
        "print(x + y)"
      ]
    },
    {
      "cell_type": "markdown",
      "metadata": {
        "id": "PDjNjqERnwQc"
      },
      "source": [
        "Addition: add y and x inplace (modify y)"
      ]
    },
    {
      "cell_type": "code",
      "execution_count": null,
      "metadata": {
        "colab": {
          "base_uri": "https://localhost:8080/"
        },
        "id": "4ggwAdTinx2R",
        "outputId": "5599d972-3c12-4f27-d35a-dcd51fc3d262"
      },
      "outputs": [
        {
          "name": "stdout",
          "output_type": "stream",
          "text": [
            "tensor([[ 5.,  7.],\n",
            "        [ 9., 11.]])\n"
          ]
        }
      ],
      "source": [
        "x = torch.tensor([[1., 2.], [3., 4.]])\n",
        "y = torch.arange(4, 8, dtype=torch.float32).reshape(2, 2)\n",
        "\n",
        "# todo: adds x to y\n",
        "y.add_(x)\n",
        "print(y)"
      ]
    },
    {
      "cell_type": "markdown",
      "metadata": {
        "id": "x4v0ZJYXbHpc"
      },
      "source": [
        "Indexing\n",
        "\n",
        "In this part, you will use indexing techniques to access part of data store in tensor **x**.\n",
        "x is a 3x3x3 matrix.\n",
        "\n",
        "For simplicity, we let (a, b, c) represents the a-th in the first axis, b-th in the second axis and c-th in the third axis, a, b and c start from 0, \n",
        "\n",
        "e.g get x at (0, 1, 1) is to get the first in the first axis, second in the second axis and second in the third axis of x, which returns 5. \n",
        "\n",
        "We also let getting x at (0:2, 1, 1) mean get the first two rows in the first axis, second in the second axis and second in the third axis.\n",
        "\n",
        "Hint: You should use standard NumPy-like indexing.\n"
      ]
    },
    {
      "cell_type": "code",
      "execution_count": null,
      "metadata": {
        "colab": {
          "base_uri": "https://localhost:8080/"
        },
        "id": "p3b8frAGbXKp",
        "outputId": "769acf87-cf78-4afd-f53a-cf8675376af3"
      },
      "outputs": [
        {
          "name": "stdout",
          "output_type": "stream",
          "text": [
            "tensor([[[ 1,  2,  3],\n",
            "         [ 4,  5,  6],\n",
            "         [ 7,  8,  9]],\n",
            "\n",
            "        [[10, 11, 12],\n",
            "         [13, 14, 15],\n",
            "         [16, 17, 18]],\n",
            "\n",
            "        [[19, 20, 21],\n",
            "         [22, 23, 24],\n",
            "         [25, 26, 27]]], dtype=torch.int32)\n",
            "tensor(5, dtype=torch.int32)\n",
            "tensor([ 5, 14], dtype=torch.int32)\n"
          ]
        }
      ],
      "source": [
        "x = torch.arange(1, 28, dtype=torch.int32).reshape(3, 3, 3)\n",
        "print(x)\n",
        "# Example: get (0, 1, 1) of x\n",
        "print(x[0, 1, 1])\n",
        "# Example: get (0:2, 1, 1) of x\n",
        "print(x[0:2, 1, 1])"
      ]
    },
    {
      "cell_type": "code",
      "execution_count": null,
      "metadata": {
        "colab": {
          "base_uri": "https://localhost:8080/"
        },
        "id": "PU9HTsMRbRVW",
        "outputId": "129a0614-3b64-4d26-c5ee-4301dda29f8d"
      },
      "outputs": [
        {
          "name": "stdout",
          "output_type": "stream",
          "text": [
            "tensor(17, dtype=torch.int32)\n",
            "tensor([5, 8], dtype=torch.int32)\n",
            "tensor([[[11, 12],\n",
            "         [14, 15],\n",
            "         [17, 18]],\n",
            "\n",
            "        [[20, 21],\n",
            "         [23, 24],\n",
            "         [26, 27]]], dtype=torch.int32)\n"
          ]
        }
      ],
      "source": [
        "# todo: get (1, 2, 1) of x\n",
        "print(x[1, 2, 1])\n",
        "# todo: get (0, 1:3, 1) of x\n",
        "print(x[0, 1:3, 1])\n",
        "# todo: get (1:3, 0:3, 1:3) of x\n",
        "print(x[1:3, 0:3, 1:3])"
      ]
    },
    {
      "cell_type": "markdown",
      "metadata": {
        "id": "XqILDc6Dn5_y"
      },
      "source": [
        "Resizing"
      ]
    },
    {
      "cell_type": "code",
      "execution_count": null,
      "metadata": {
        "colab": {
          "base_uri": "https://localhost:8080/"
        },
        "id": "_IHNWtSjn7zW",
        "outputId": "519c22c9-95b2-4dfa-e347-161c574b930e"
      },
      "outputs": [
        {
          "name": "stdout",
          "output_type": "stream",
          "text": [
            "tensor([[ 0,  1,  2,  3],\n",
            "        [ 4,  5,  6,  7],\n",
            "        [ 8,  9, 10, 11]])\n",
            "tensor([[ 0,  1,  2],\n",
            "        [ 3,  4,  5],\n",
            "        [ 6,  7,  8],\n",
            "        [ 9, 10, 11]])\n"
          ]
        }
      ],
      "source": [
        "A = torch.arange(12)\n",
        "\n",
        "# todo: resize A to 3x4 using view\n",
        "B = A.view(3, 4)\n",
        "print(B)\n",
        "# todo: resize A to 4x3 using reshape\n",
        "C = A.reshape(4, 3)\n",
        "print(C)"
      ]
    },
    {
      "cell_type": "markdown",
      "metadata": {
        "id": "MjIyg0k7jSJu"
      },
      "source": [
        "Question: what is the difference between view and reshape of a tensor?\n"
      ]
    },
    {
      "cell_type": "markdown",
      "metadata": {
        "id": "934B2dXbVLSt"
      },
      "source": [
        "\"view\" is a shallow copy operation that does not create a new copy of the data in memory, while \"reshape\" is a deep copy operation that creates a new copy of the data in memory"
      ]
    },
    {
      "cell_type": "markdown",
      "metadata": {
        "id": "Z_LRanfFLDav"
      },
      "source": [
        "## Problem 2"
      ]
    },
    {
      "cell_type": "markdown",
      "metadata": {
        "id": "_UnzKwFZXBow"
      },
      "source": [
        "### (a) Prepare MNIST dataset\n",
        "\n",
        "Download MNIST dataset `mnist.mat` from the [google drive link](https://drive.google.com/file/d/13BJmpfohMGthH9gGRYgxMyBk3Y2J8vE8/view?usp=sharing) and put into your Google Drive.\n",
        "Mount your Google Drive to this notebook."
      ]
    },
    {
      "cell_type": "code",
      "execution_count": null,
      "metadata": {
        "id": "2862HRnVLHSo"
      },
      "outputs": [],
      "source": [
        "# Show matplotlib graphs in your notebook\n",
        "%matplotlib inline"
      ]
    },
    {
      "cell_type": "code",
      "execution_count": null,
      "metadata": {
        "colab": {
          "base_uri": "https://localhost:8080/"
        },
        "id": "Zz6Q1adZL3kU",
        "outputId": "1bd4e6da-f8a4-48d8-b163-934bff67a692"
      },
      "outputs": [
        {
          "name": "stdout",
          "output_type": "stream",
          "text": [
            "Mounted at /content/gdrive\n"
          ]
        }
      ],
      "source": [
        "# Mount your Google Drive to this notebook.\n",
        "from google.colab import drive\n",
        "drive.mount('/content/gdrive')"
      ]
    },
    {
      "cell_type": "markdown",
      "metadata": {
        "id": "RmAN2QJyLDax"
      },
      "source": [
        "Load MNIST dataset from your Google Drive. \n",
        "\n",
        "Different from HW1, we downsample the data from 28x28 to 14x14.\n",
        "The training data (images) are contained in a matrix called `mnist['traindata']` with labels called `mnist['trainlabels']`. The testing data are in `mnist['testdata']`."
      ]
    },
    {
      "cell_type": "code",
      "execution_count": null,
      "metadata": {
        "colab": {
          "base_uri": "https://localhost:8080/"
        },
        "id": "Al08q_GmLDax",
        "outputId": "bbd5dcb2-fd57-4c9e-c371-a6b7f2e80ec9"
      },
      "outputs": [
        {
          "name": "stdout",
          "output_type": "stream",
          "text": [
            "torch.Size([50000, 1, 14, 14])\n",
            "torch.Size([50000])\n",
            "torch.Size([10000, 1, 14, 14])\n",
            "torch.Size([10000])\n",
            "torch.Size([10000, 1, 14, 14])\n"
          ]
        }
      ],
      "source": [
        "from scipy.io import loadmat\n",
        "import torch\n",
        "import torchvision.transforms as T\n",
        "\n",
        "\n",
        "mnist = loadmat('/content/gdrive/MyDrive/Colab Notebooks/mnist.mat') # change the file path according to the path where you put mnist.mat on your Google Drive.\n",
        "\n",
        "# convert data to torch, normalize and reshape\n",
        "data = torch.reshape(torch.from_numpy(mnist['traindata']).to(torch.float)/255.0 - 0.5, (mnist['traindata'].shape[0], 1, 28, 28))\n",
        "testdata = torch.reshape(torch.from_numpy(mnist['testdata']).to(torch.float)/255.0 - 0.5, (mnist['testdata'].shape[0], 1, 28, 28))\n",
        "\n",
        "trainlabels = torch.from_numpy(mnist['trainlabels'].ravel()[:50000])\n",
        "validlabels = torch.from_numpy(mnist['trainlabels'].ravel()[50000:])\n",
        "\n",
        "resize = T.Resize((14,14))\n",
        "data = resize(data)\n",
        "testdata = resize(testdata)\n",
        "traindata = data[:50000]\n",
        "validdata = data[50000:]\n",
        "\n",
        "\n",
        "print(traindata.shape)\n",
        "print(trainlabels.shape)\n",
        "print(validdata.shape)\n",
        "print(validlabels.shape)\n",
        "print(testdata.shape)"
      ]
    },
    {
      "cell_type": "code",
      "execution_count": null,
      "metadata": {
        "id": "k8OJw5cUlv0J"
      },
      "outputs": [],
      "source": [
        "from torch.utils.data import TensorDataset, DataLoader\n",
        "\n",
        "mnist_train = TensorDataset(traindata, trainlabels)\n",
        "mnist_valid = TensorDataset(validdata, validlabels)\n",
        "mnist_valid_loader = DataLoader(mnist_valid, batch_size=128)\n",
        "mnist_train_loader = DataLoader(mnist_train, batch_size=128, shuffle=True)"
      ]
    },
    {
      "cell_type": "markdown",
      "metadata": {
        "id": "Jjj79ZkVLDa0"
      },
      "source": [
        "\n",
        "\n",
        "Visualize an image with label."
      ]
    },
    {
      "cell_type": "code",
      "execution_count": null,
      "metadata": {
        "colab": {
          "base_uri": "https://localhost:8080/",
          "height": 983
        },
        "id": "xbRf0yp5LDa1",
        "outputId": "6ef6cb8c-647d-4943-cca1-34b144f5ef05"
      },
      "outputs": [
        {
          "data": {
            "image/png": "[encoded data removed]",
            "text/plain": [
              "<Figure size 1200x1200 with 25 Axes>"
            ]
          },
          "metadata": {},
          "output_type": "display_data"
        }
      ],
      "source": [
        "import matplotlib.pyplot as plt\n",
        "from matplotlib import cm\n",
        "\n",
        "fig, axs = plt.subplots(5, 5, figsize = (12, 12))\n",
        "plt.gray()\n",
        "\n",
        "# loop through subplots and add mnist images\n",
        "for i, ax in enumerate(axs.flat):\n",
        "  ax.imshow((mnist_train[i][0] + 0.5 ).reshape((14, 14)), cmap=cm.gray_r)\n",
        "  ax.axis('off')\n",
        "  ax.set_title('Number {}'.format(trainlabels[i]))"
      ]
    },
    {
      "cell_type": "markdown",
      "metadata": {
        "id": "RxdJs7c3U2-7"
      },
      "source": [
        "(b) Multilayer Perceptron (MLP)\n",
        "\n",
        "Use MLP to achieve image classification.\n",
        "\n",
        "Define the following MLP using PyTorch to do image classification on MNIST dataset according to the below figure:\n",
        "Number of hidden layers: 3\n",
        "Number of neurons in the layers: [100, 50, 20]\n",
        "Activation functions: ReLU()\n",
        "Dropout for all hidden layers: 30%\n",
        "Output layer + softmax\n"
      ]
    },
    {
      "cell_type": "markdown",
      "metadata": {
        "id": "B87-tX7aVSQi"
      },
      "source": [
        "![Screen Shot 2022-09-23 at 11.48.00 AM.png](data:image/png;base64,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)"
      ]
    },
    {
      "cell_type": "markdown",
      "metadata": {
        "id": "DQOoObWBSiKg"
      },
      "source": [
        "To feed the data into the MLP, each image with dim of $1 \\times 14 \\times 14$ needs to be flatten into a vector with dim of $196.\n",
        "\n",
        "Just like how you transfer a Tensor onto the GPU, you transfer the neural net onto the GPU. Let's first define our device as the first visible cuda device if we have CUDA available.\n",
        "\n",
        "**Note**: remember to keep the logs of training the different models."
      ]
    },
    {
      "cell_type": "code",
      "execution_count": null,
      "metadata": {
        "colab": {
          "base_uri": "https://localhost:8080/"
        },
        "id": "yvbWQt2Qv28G",
        "outputId": "9995cbda-afd0-4f35-f096-d26417cc591a"
      },
      "outputs": [
        {
          "name": "stdout",
          "output_type": "stream",
          "text": [
            "cpu\n"
          ]
        }
      ],
      "source": [
        "# use GPU to train if possible\n",
        "device = torch.device(\"cuda:0\" if torch.cuda.is_available() else \"cpu\")\n",
        "print(device)"
      ]
    },
    {
      "cell_type": "code",
      "execution_count": null,
      "metadata": {
        "id": "OHGFYOm8emtA"
      },
      "outputs": [],
      "source": [
        "import torch.nn as nn\n",
        "\n",
        "class MLP(nn.Module):\n",
        "  def __init__(self):\n",
        "    super(MLP, self).__init__()\n",
        "    # TODO: define your MLP\n",
        "    self.fc1 = nn.Linear(196, 100)\n",
        "    self.fc2 = nn.Linear(100, 50)\n",
        "    self.fc3 = nn.Linear(50, 20)\n",
        "    self.dropout = nn.Dropout(p=0.3)\n",
        "    self.output = nn.Linear(20, 10)\n",
        "\n",
        "  def forward(self, x):\n",
        "    # TODO: define your forward function\n",
        "    x = x.view(x.shape[0], -1)\n",
        "    x = nn.functional.relu(self.fc1(x))\n",
        "    x = self.dropout(x)\n",
        "    x = nn.functional.relu(self.fc2(x))\n",
        "    x = self.dropout(x)\n",
        "    x = nn.functional.relu(self.fc3(x))\n",
        "    x = self.output(x)\n",
        "    return nn.functional.softmax(x, dim=1)\n",
        "    \n"
      ]
    },
    {
      "cell_type": "code",
      "execution_count": null,
      "metadata": {
        "id": "Dg8_7Mzd45HA"
      },
      "outputs": [],
      "source": [
        "import torch.optim as optim\n",
        "# TODO: write your training code\n",
        "def train(model, train_loader, valid_loader, criterion, optimizer, num_epochs=10):\n",
        "    device = next(model.parameters()).device\n",
        "    train_losses, valid_losses = [], []\n",
        "    train_accs, valid_accs = [], []\n",
        "    \n",
        "    for epoch in range(num_epochs):\n",
        "        # training\n",
        "        model.train()\n",
        "        running_loss = 0.0\n",
        "        correct_train = 0\n",
        "        total_train = 0\n",
        "        for inputs, targets in train_loader:\n",
        "            inputs, targets = inputs.to(device), targets.to(device)\n",
        "            optimizer.zero_grad()\n",
        "            outputs = model(inputs)\n",
        "            loss = criterion(outputs, targets)\n",
        "            loss.backward()\n",
        "            optimizer.step()\n",
        "            \n",
        "            running_loss += loss.item() * inputs.size(0)\n",
        "            _, predicted = torch.max(outputs.data, 1)\n",
        "            total_train += targets.size(0)\n",
        "            correct_train += (predicted == targets).sum().item()\n",
        "        \n",
        "        epoch_train_loss = running_loss / len(train_loader.dataset)\n",
        "        epoch_train_acc = correct_train / total_train\n",
        "        train_losses.append(epoch_train_loss)\n",
        "        train_accs.append(epoch_train_acc)\n",
        "        \n",
        "        # validation\n",
        "        model.eval()\n",
        "        running_loss = 0.0\n",
        "        correct_valid = 0\n",
        "        total_valid = 0\n",
        "        with torch.no_grad():\n",
        "            for inputs, targets in valid_loader:\n",
        "                inputs, targets = inputs.to(device), targets.to(device)\n",
        "                outputs = model(inputs)\n",
        "                loss = criterion(outputs, targets)\n",
        "                \n",
        "                running_loss += loss.item() * inputs.size(0)\n",
        "                _, predicted = torch.max(outputs.data, 1)\n",
        "                total_valid += targets.size(0)\n",
        "                correct_valid += (predicted == targets).sum().item()\n",
        "        \n",
        "        epoch_valid_loss = running_loss / len(valid_loader.dataset)\n",
        "        epoch_valid_acc = correct_valid / total_valid\n",
        "        valid_losses.append(epoch_valid_loss)\n",
        "        valid_accs.append(epoch_valid_acc)\n",
        "        \n",
        "        print(f\"Epoch {epoch+1}/{num_epochs} | Train Loss: {epoch_train_loss:.4f} | Train Acc: {epoch_train_acc:.4f} | Valid Loss: {epoch_valid_loss:.4f} | Valid Acc: {epoch_valid_acc:.4f}\")\n",
        "    \n",
        "    return train_losses, valid_losses, train_accs, valid_accs\n",
        "# TODO: write your testing code\n",
        "def test(model, test_loader):\n",
        "    device = next(model.parameters()).device\n",
        "    model.eval()\n",
        "    running_loss = 0.0\n",
        "    correct_test = 0\n",
        "    total_test = 0\n",
        "    with torch.no_grad():\n",
        "        for inputs, targets in test_loader:\n",
        "            inputs, targets = inputs.to(device), targets.to(device)\n",
        "            outputs = model(inputs)\n",
        "            loss = criterion(outputs, targets)\n",
        "\n",
        "            running_loss += loss.item() * inputs.size(0)\n",
        "            _, predicted = torch.max(outputs.data, 1)\n",
        "            total_test += targets.size(0)\n",
        "            correct_test += (predicted == targets).sum().item()\n",
        "\n",
        "    test_loss = running_loss / len(test_loader.dataset)\n",
        "    test_acc = correct_test / total_test\n",
        "\n",
        "    print(f\"Test Loss: {test_loss:.4f} | Test Acc: {test_acc:.4f}\")\n",
        "\n",
        "    return test_loss, test_acc\n"
      ]
    },
    {
      "cell_type": "code",
      "execution_count": null,
      "metadata": {
        "id": "kq7984jdBw_F"
      },
      "outputs": [],
      "source": [
        "device = torch.device(\"cuda:0\" if torch.cuda.is_available() else \"cpu\")\n",
        "mlp = MLP().to(device)  # operate on GPU\n"
      ]
    },
    {
      "cell_type": "markdown",
      "metadata": {
        "id": "nkkNxVUz7Ep1"
      },
      "source": [
        "Define a loss function and optimizer."
      ]
    },
    {
      "cell_type": "code",
      "execution_count": null,
      "metadata": {
        "id": "O6_ABQ1DfJgg"
      },
      "outputs": [],
      "source": [
        "import torch.optim as optim\n",
        "\n",
        "# TODO: you can change loss function and optimizer\n",
        "criterion = nn.CrossEntropyLoss()\n",
        "optimizer = optim.Adam(mlp.parameters(), lr=0.001, betas=(0.9, 0.999), eps=1e-08, weight_decay=0)"
      ]
    },
    {
      "cell_type": "markdown",
      "metadata": {
        "id": "_axZ2tOWfe-Z"
      },
      "source": [
        "Train the network. \n",
        "\n",
        "This is when things start to get interesting.\n",
        "We simply have to loop over our data iterator, and feed the inputs to the\n",
        "network and optimize."
      ]
    },
    {
      "cell_type": "code",
      "execution_count": null,
      "metadata": {
        "colab": {
          "base_uri": "https://localhost:8080/"
        },
        "id": "6jd0fDQ39sfG",
        "outputId": "345c6606-191b-4144-9eec-c8b7614511d0"
      },
      "outputs": [
        {
          "name": "stdout",
          "output_type": "stream",
          "text": [
            "Epoch 1/10, Valid Loss: 0.0119, Valid Acc: 0.9548\n",
            "Epoch 2/10, Valid Loss: 0.0119, Valid Acc: 0.9548\n",
            "Epoch 3/10, Valid Loss: 0.0119, Valid Acc: 0.9548\n",
            "Epoch 4/10, Valid Loss: 0.0119, Valid Acc: 0.9548\n",
            "Epoch 5/10, Valid Loss: 0.0119, Valid Acc: 0.9548\n",
            "Epoch 6/10, Valid Loss: 0.0119, Valid Acc: 0.9548\n",
            "Epoch 7/10, Valid Loss: 0.0119, Valid Acc: 0.9548\n",
            "Epoch 8/10, Valid Loss: 0.0119, Valid Acc: 0.9548\n",
            "Epoch 9/10, Valid Loss: 0.0119, Valid Acc: 0.9548\n",
            "Epoch 10/10, Valid Loss: 0.0119, Valid Acc: 0.9548\n"
          ]
        }
      ],
      "source": [
        "n_epoch = 10\n",
        "# todo: use your train() to train the model\n",
        "\n",
        "\n",
        "for epoch in range(n_epoch):\n",
        "  # set the model to training mode\n",
        "  mlp.train()\n",
        "\n",
        "  # loop over the training dataset\n",
        "  for i, (inputs, labels) in enumerate(mnist_train_loader):\n",
        "    inputs, labels = inputs.to(device), labels.to(device)\n",
        "\n",
        "    # zero the parameter gradients\n",
        "    optimizer.zero_grad()\n",
        "\n",
        "    # forward + backward + optimize\n",
        "    outputs = mlp(inputs)\n",
        "    loss = criterion(outputs, labels)\n",
        "    loss.backward()\n",
        "    optimizer.step()\n",
        "\n",
        "  # evaluate on the validation dataset\n",
        "  mlp.eval()\n",
        "  with torch.no_grad():\n",
        "    valid_loss = 0\n",
        "    valid_acc = 0\n",
        "    for inputs, labels in mnist_valid_loader:\n",
        "      inputs, labels = inputs.to(device), labels.to(device)\n",
        "      outputs = mlp(inputs)\n",
        "      valid_loss += criterion(outputs, labels).item()\n",
        "      _, predicted = torch.max(outputs.data, 1)\n",
        "      valid_acc += (predicted == labels).sum().item()\n",
        "    valid_loss /= len(mnist_valid_loader.dataset)\n",
        "    valid_acc /= len(mnist_valid_loader.dataset)\n",
        "\n",
        "  # print the results for this epoch\n",
        "  print(f\"Epoch {epoch+1}/{n_epoch}, Valid Loss: {valid_loss:.4f}, Valid Acc: {valid_acc:.4f}\")\n",
        "\n"
      ]
    },
    {
      "cell_type": "markdown",
      "metadata": {
        "id": "U0CP36AOgCQR"
      },
      "source": [
        "Save the trained model. \n",
        "See [here](https://pytorch.org/docs/stable/notes/serialization.html)\n",
        "for more details on saving PyTorch models."
      ]
    },
    {
      "cell_type": "code",
      "execution_count": null,
      "metadata": {
        "id": "spe6mioOgFPq"
      },
      "outputs": [],
      "source": [
        "PATH = '/content/gdrive/My Drive/mlp_mnist.pth'\n",
        "torch.save(mlp.state_dict(), PATH)"
      ]
    },
    {
      "cell_type": "markdown",
      "metadata": {
        "id": "ohEOKpQh7EqA"
      },
      "source": [
        "Load back in our saved model. (Note: saving and re-loading the model\n",
        "wasn't necessary here, we only did it to illustrate how to do so)\n",
        "\n"
      ]
    },
    {
      "cell_type": "code",
      "execution_count": null,
      "metadata": {
        "colab": {
          "base_uri": "https://localhost:8080/"
        },
        "id": "zdW5-7Rf7EqA",
        "outputId": "d2deb2ca-e8fe-4764-8631-710b2b28272f"
      },
      "outputs": [
        {
          "data": {
            "text/plain": [
              "<All keys matched successfully>"
            ]
          },
          "execution_count": 19,
          "metadata": {},
          "output_type": "execute_result"
        }
      ],
      "source": [
        "mlp = MLP().to(device)\n",
        "mlp.load_state_dict(torch.load(PATH))"
      ]
    },
    {
      "cell_type": "markdown",
      "metadata": {
        "id": "uiwCEPnm9kVN"
      },
      "source": [
        "Evaluate the classfication performance on the testing set."
      ]
    },
    {
      "cell_type": "code",
      "execution_count": null,
      "metadata": {
        "colab": {
          "base_uri": "https://localhost:8080/"
        },
        "id": "iRoECZtg9lBl",
        "outputId": "4847607a-970c-4299-9d80-48daec1e389d"
      },
      "outputs": [
        {
          "name": "stdout",
          "output_type": "stream",
          "text": [
            "MLP(\n",
            "  (fc1): Linear(in_features=196, out_features=100, bias=True)\n",
            "  (fc2): Linear(in_features=100, out_features=50, bias=True)\n",
            "  (fc3): Linear(in_features=50, out_features=20, bias=True)\n",
            "  (dropout): Dropout(p=0.3, inplace=False)\n",
            "  (output): Linear(in_features=20, out_features=10, bias=True)\n",
            ")\n",
            "Accuracy on validation set: 95.48%\n"
          ]
        }
      ],
      "source": [
        "print(mlp)\n",
        "# todo: use your test() to test your MLP on val set\n",
        "def test():\n",
        "    mlp.eval()\n",
        "    correct = 0\n",
        "    total = 0\n",
        "    with torch.no_grad():\n",
        "        for data in mnist_valid_loader:\n",
        "            images, labels = data\n",
        "            images = images.to(device)\n",
        "            labels = labels.to(device)\n",
        "            outputs = mlp(images)\n",
        "            _, predicted = torch.max(outputs.data, 1)\n",
        "            total += labels.size(0)\n",
        "            correct += (predicted == labels).sum().item()\n",
        "\n",
        "    accuracy = 100 * correct / total\n",
        "    print('Accuracy on validation set: {:.2f}%'.format(accuracy))\n",
        "\n",
        "test()\n"
      ]
    },
    {
      "cell_type": "markdown",
      "metadata": {
        "id": "x8YcAStPfmBM"
      },
      "source": [
        "(c) Convolution Neural Network (CNN)"
      ]
    },
    {
      "cell_type": "code",
      "execution_count": null,
      "metadata": {
        "id": "-jTFDbW8Qd92"
      },
      "outputs": [],
      "source": [
        "from scipy.io import loadmat\n",
        "import torch\n",
        "import torchvision.transforms as T\n",
        "\n",
        "\n",
        "mnist = loadmat('/content/gdrive/MyDrive/Colab Notebooks/mnist.mat') # change the file path according to the path where you put mnist.mat on your Google Drive.\n",
        "\n",
        "# convert data to torch, normalize and reshape\n",
        "data = torch.reshape(torch.from_numpy(mnist['traindata']).to(torch.float)/255.0 - 0.5, (mnist['traindata'].shape[0], 1, 28, 28))\n",
        "testdata = torch.reshape(torch.from_numpy(mnist['testdata']).to(torch.float)/255.0 - 0.5, (mnist['testdata'].shape[0], 1, 28, 28))\n",
        "\n",
        "trainlabels = torch.from_numpy(mnist['trainlabels'].ravel()[:50000])\n",
        "validlabels = torch.from_numpy(mnist['trainlabels'].ravel()[50000:])\n",
        "\n",
        "testdata = resize(testdata)\n",
        "traindata = data[:50000]\n",
        "validdata = data[50000:]\n",
        "\n",
        "mnist_train = TensorDataset(traindata, trainlabels)\n",
        "mnist_valid = TensorDataset(validdata, validlabels)\n",
        "mnist_valid_loader = DataLoader(mnist_valid, batch_size=128)\n",
        "mnist_train_loader = DataLoader(mnist_train, batch_size=128)\n"
      ]
    },
    {
      "cell_type": "markdown",
      "metadata": {
        "id": "NXLrcdbivC5C"
      },
      "source": [
        "Built a LeNet-5 using PyTorch to do image classification. Develop the CNN from the PyTorch NN tutorial introduced in class. \n",
        "\n",
        "Note: \n",
        "1. The input image dimension shown in the figure below is different from the one we have in this problem.\n",
        "2. Use kernel size=3 for both convolutions (Original LeNet-5 uses kernel size=5 as shown in the Fig.3 of HW2.pdf)\n"
      ]
    },
    {
      "cell_type": "code",
      "execution_count": null,
      "metadata": {
        "id": "m6gjC8QqIBrj"
      },
      "outputs": [],
      "source": [
        "import torch.nn as nn\n",
        "import torch.nn.functional as F\n",
        "\n",
        "class CNN(nn.Module):\n",
        "    def __init__(self):\n",
        "        super(CNN, self).__init__()\n",
        "        self.conv1 = nn.Conv2d(1, 6, kernel_size=3, stride=1, padding=1)\n",
        "        self.pool1 = nn.MaxPool2d(kernel_size=2, stride=2)\n",
        "        self.conv2 = nn.Conv2d(6, 16, kernel_size=3, stride=1, padding=1)\n",
        "        self.pool2 = nn.MaxPool2d(kernel_size=2, stride=2)\n",
        "        self.fc1 = nn.Linear(16 * 7 * 7, 120)\n",
        "        self.fc2 = nn.Linear(120, 84)\n",
        "        self.fc3 = nn.Linear(84, 10)\n",
        "\n",
        "    def forward(self, x):\n",
        "        x = self.conv1(x)\n",
        "        x = F.relu(x)\n",
        "        x = self.pool1(x)\n",
        "        x = self.conv2(x)\n",
        "        x = F.relu(x)\n",
        "        x = self.pool2(x)\n",
        "        x = x.view(-1, 16*7*7)\n",
        "        x = F.relu(self.fc1(x))\n",
        "        x = F.relu(self.fc2(x))\n",
        "        x = self.fc3(x)\n",
        "        return x\n",
        "\n",
        "cnn_mnist = CNN().to(device)\n"
      ]
    },
    {
      "cell_type": "code",
      "execution_count": null,
      "metadata": {
        "id": "D-gm3dOhSvWL"
      },
      "outputs": [],
      "source": [
        "def train(model, train_loader, criterion, optimizer, device):\n",
        "    model.train()  # set the model to training mode\n",
        "    train_loss = 0\n",
        "    train_acc = 0\n",
        "    for inputs, labels in train_loader:\n",
        "        inputs, labels = inputs.to(device), labels.to(device)\n",
        "        optimizer.zero_grad()  # zero the parameter gradients\n",
        "        outputs = model(inputs)  # forward pass\n",
        "        loss = criterion(outputs, labels)  # compute the loss\n",
        "        loss.backward()  # backward pass\n",
        "        optimizer.step()  # update the parameters\n",
        "        # compute the accuracy\n",
        "        _, predicted = torch.max(outputs.data, 1)\n",
        "        train_acc += (predicted == labels).sum().item()\n",
        "        # accumulate the loss\n",
        "        train_loss += loss.item() * inputs.size(0)\n",
        "    train_loss /= len(train_loader.dataset)\n",
        "    train_acc /= len(train_loader.dataset)\n",
        "    return train_loss, train_acc\n",
        "def test(model, test_loader):\n",
        "    model.eval()\n",
        "    test_loss = 0\n",
        "    correct = 0\n",
        "    with torch.no_grad():\n",
        "        for data, target in test_loader:\n",
        "            data, target = data.to(device), target.to(device)\n",
        "            output = model(data)\n",
        "            test_loss += F.cross_entropy(output, target, reduction='sum').item()  # sum up batch loss\n",
        "            pred = output.argmax(dim=1, keepdim=True)  # get the index of the max log-probability\n",
        "            correct += pred.eq(target.view_as(pred)).sum().item()\n",
        "\n",
        "    test_loss /= len(test_loader.dataset)\n",
        "\n",
        "    print('\\nTest set: Average loss: {:.4f}, Accuracy: {}/{} ({:.0f}%)\\n'.format(\n",
        "        test_loss, correct, len(test_loader.dataset),\n",
        "        100. * correct / len(test_loader.dataset)))\n",
        "    \n",
        "import torch.optim as optim\n",
        "criterion = nn.CrossEntropyLoss()\n",
        "optimizer = optim.Adam(cnn_mnist.parameters(), lr=0.001)\n",
        "\n"
      ]
    },
    {
      "cell_type": "code",
      "execution_count": null,
      "metadata": {
        "id": "N_Lg8uSzIrtb"
      },
      "outputs": [],
      "source": [
        "import torch.optim as optim\n",
        "\n",
        "# TODO: you can change loss function and optimizer\n",
        "criterion = nn.CrossEntropyLoss()\n",
        "optimizer = optim.Adam(cnn_mnist.parameters(), lr=0.001, betas=(0.9, 0.999), eps=1e-08, weight_decay=0)"
      ]
    },
    {
      "cell_type": "code",
      "execution_count": null,
      "metadata": {
        "colab": {
          "base_uri": "https://localhost:8080/"
        },
        "id": "WSTwwRIEU0O3",
        "outputId": "1bec8773-13af-4772-d701-9c97704d23ce"
      },
      "outputs": [
        {
          "name": "stdout",
          "output_type": "stream",
          "text": [
            "Epoch 1/10, Valid Loss: 0.0013, Valid Acc: 0.9504\n",
            "Epoch 2/10, Valid Loss: 0.0007, Valid Acc: 0.9745\n",
            "Epoch 3/10, Valid Loss: 0.0006, Valid Acc: 0.9785\n",
            "Epoch 4/10, Valid Loss: 0.0005, Valid Acc: 0.9806\n",
            "Epoch 5/10, Valid Loss: 0.0005, Valid Acc: 0.9827\n",
            "Epoch 6/10, Valid Loss: 0.0004, Valid Acc: 0.9832\n",
            "Epoch 7/10, Valid Loss: 0.0004, Valid Acc: 0.9854\n",
            "Epoch 8/10, Valid Loss: 0.0004, Valid Acc: 0.9859\n",
            "Epoch 9/10, Valid Loss: 0.0004, Valid Acc: 0.9867\n",
            "Epoch 10/10, Valid Loss: 0.0004, Valid Acc: 0.9868\n"
          ]
        }
      ],
      "source": [
        "n_epoch = 10\n",
        "# todo: use your train() to train the model\n",
        "\n",
        "for epoch in range(n_epoch):\n",
        "  # set the model to training mode\n",
        "  cnn_mnist.train()\n",
        "\n",
        "  # loop over the training dataset\n",
        "  for i, (inputs, labels) in enumerate(mnist_train_loader):\n",
        "    inputs, labels = inputs.to(device), labels.to(device)\n",
        "\n",
        "    # zero the parameter gradients\n",
        "    optimizer.zero_grad()\n",
        "\n",
        "    # forward + backward + optimize\n",
        "    inputs = inputs.reshape(-1, 1, 28, 28).to(device)\n",
        "    outputs = cnn_mnist(inputs)\n",
        "    \n",
        "    loss = criterion(outputs, labels)\n",
        "    loss.backward()\n",
        "    optimizer.step()\n",
        "\n",
        "  # evaluate on the validation dataset\n",
        "  cnn_mnist.eval()\n",
        "  with torch.no_grad():\n",
        "    valid_loss = 0\n",
        "    valid_acc = 0\n",
        "    for inputs, labels in mnist_valid_loader:\n",
        "      inputs, labels = inputs.to(device), labels.to(device)\n",
        "      outputs = cnn_mnist(inputs)\n",
        "      valid_loss += criterion(outputs, labels).item()\n",
        "      _, predicted = torch.max(outputs.data, 1)\n",
        "      valid_acc += (predicted == labels).sum().item()\n",
        "    valid_loss /= len(mnist_valid_loader.dataset)\n",
        "    valid_acc /= len(mnist_valid_loader.dataset)\n",
        "\n",
        "  # print the results for this epoch\n",
        "  print(f\"Epoch {epoch+1}/{n_epoch}, Valid Loss: {valid_loss:.4f}, Valid Acc: {valid_acc:.4f}\")\n",
        "\n"
      ]
    },
    {
      "cell_type": "code",
      "execution_count": null,
      "metadata": {
        "colab": {
          "base_uri": "https://localhost:8080/"
        },
        "id": "NsBjFiLRI8D8",
        "outputId": "1f7c9d0b-6a47-4275-8c22-d116015a7069"
      },
      "outputs": [
        {
          "name": "stdout",
          "output_type": "stream",
          "text": [
            "CNN(\n",
            "  (conv1): Conv2d(1, 6, kernel_size=(3, 3), stride=(1, 1), padding=(1, 1))\n",
            "  (pool1): MaxPool2d(kernel_size=2, stride=2, padding=0, dilation=1, ceil_mode=False)\n",
            "  (conv2): Conv2d(6, 16, kernel_size=(3, 3), stride=(1, 1), padding=(1, 1))\n",
            "  (pool2): MaxPool2d(kernel_size=2, stride=2, padding=0, dilation=1, ceil_mode=False)\n",
            "  (fc1): Linear(in_features=784, out_features=120, bias=True)\n",
            "  (fc2): Linear(in_features=120, out_features=84, bias=True)\n",
            "  (fc3): Linear(in_features=84, out_features=10, bias=True)\n",
            ")\n",
            "Accuracy on validation set: 98.68%\n"
          ]
        }
      ],
      "source": [
        "print(cnn_mnist)\n",
        "# todo: use your test() to test your CNN on val set\n",
        "def test():\n",
        "    cnn_mnist.eval()\n",
        "    correct = 0\n",
        "    total = 0\n",
        "    with torch.no_grad():\n",
        "        for data in mnist_valid_loader:\n",
        "            images, labels = data\n",
        "            images = images.to(device)\n",
        "            labels = labels.to(device)\n",
        "            outputs = cnn_mnist(images)\n",
        "            _, predicted = torch.max(outputs.data, 1)\n",
        "            total += labels.size(0)\n",
        "            correct += (predicted == labels).sum().item()\n",
        "\n",
        "    accuracy = 100 * correct / total\n",
        "    print('Accuracy on validation set: {:.2f}%'.format(accuracy))\n",
        "\n",
        "test()\n"
      ]
    },
    {
      "cell_type": "markdown",
      "metadata": {
        "id": "AYERJpbVn-5x"
      },
      "source": [
        "## Problem 3: Image Classification by CNN"
      ]
    },
    {
      "cell_type": "markdown",
      "metadata": {
        "id": "Fj3L0DrOM88X"
      },
      "source": [
        "Write code to load and visualize the CIFAR-10 dataset.\n",
        "\n",
        "CIFAR-10 dataset has the classes (listed below): ‘airplane’, ‘automobile’, ‘bird’, ‘cat’, ‘deer’, ‘dog’, ‘frog’, ‘horse’, ‘ship’, ‘truck’. The images in CIFAR-10 are of size $3 \\times 32 \\times 32$, i.e. 3-channel color images of $32 \\times 32$ pixels in size. \n",
        "\n",
        "<h4>Note:</h4>\n",
        "The output of torchvision datasets are PILImage images of range [0, 1].\n",
        "We transform them to Tensors of normalized range [-1, 1]."
      ]
    },
    {
      "cell_type": "code",
      "execution_count": null,
      "metadata": {
        "colab": {
          "base_uri": "https://localhost:8080/"
        },
        "id": "mqnizXadNh8b",
        "outputId": "7bf56f77-699b-4164-9645-8fcc717864a9"
      },
      "outputs": [
        {
          "output_type": "stream",
          "name": "stdout",
          "text": [
            "Downloading https://www.cs.toronto.edu/~kriz/cifar-10-python.tar.gz to ./data/cifar-10-python.tar.gz\n"
          ]
        },
        {
          "output_type": "stream",
          "name": "stderr",
          "text": [
            "100%|██████████| 170498071/170498071 [00:12<00:00, 13190029.47it/s]\n"
          ]
        },
        {
          "output_type": "stream",
          "name": "stdout",
          "text": [
            "Extracting ./data/cifar-10-python.tar.gz to ./data/\n",
            "Files already downloaded and verified\n"
          ]
        }
      ],
      "source": [
        "from torchvision import transforms, datasets\n",
        "from torch.utils.data import TensorDataset, DataLoader\n",
        "\n",
        "classes = ('plane', 'car', 'bird', 'cat', 'deer', 'dog', 'frog', 'horse', \n",
        "           'ship', 'truck')\n",
        "transform = transforms.Compose(\n",
        "    [transforms.ToTensor(),\n",
        "     transforms.Normalize((0.5, 0.5, 0.5), (0.5, 0.5, 0.5))])\n",
        "\n",
        "cifar10_trainset = datasets.CIFAR10(root='./data/', train=True, download=True, transform=transform)\n",
        "cifar10_testset = datasets.CIFAR10(root='./data/', train=False, download=True, transform=transform)\n",
        "\n",
        "cifar_loader = DataLoader(cifar10_trainset, batch_size=len(cifar10_trainset), shuffle=False)\n",
        "cifar_test_loader = DataLoader(cifar10_testset, batch_size=len(cifar10_testset), shuffle=False)"
      ]
    },
    {
      "cell_type": "code",
      "execution_count": null,
      "metadata": {
        "colab": {
          "base_uri": "https://localhost:8080/",
          "height": 653
        },
        "id": "igESHithODja",
        "outputId": "20d77286-7f25-488b-9c23-c7a657c852fb"
      },
      "outputs": [
        {
          "output_type": "display_data",
          "data": {
            "text/plain": [
              "<Figure size 800x800 with 9 Axes>"
            ],
            "image/png": "[encoded data removed]"
          },
          "metadata": {}
        }
      ],
      "source": [
        "import numpy as np\n",
        "import matplotlib.pyplot as plt\n",
        "from matplotlib import cm\n",
        "\n",
        "def cifar_imshow(img):\n",
        "  img = img / 2 + 0.5     # unnormalize\n",
        "  npimg = img.numpy()\n",
        "  return np.transpose(npimg, (1, 2, 0))\n",
        "\n",
        "# TODO: visualize some samples in the CIFAR-10 dataset\n",
        "dataiter = iter(cifar_loader)\n",
        "images, labels = next(dataiter)\n",
        "\n",
        "fig, axes = plt.subplots(nrows=3, ncols=3, figsize=(8,8))\n",
        "for ax, img in zip(axes.flatten(), images):\n",
        "    ax.imshow(cifar_imshow(img))\n",
        "    ax.axis('off')\n",
        "plt.show()\n"
      ]
    },
    {
      "cell_type": "markdown",
      "metadata": {
        "id": "Qc4DHtXvjocy"
      },
      "source": [
        "#### Data Augmentation"
      ]
    },
    {
      "cell_type": "code",
      "execution_count": null,
      "metadata": {
        "colab": {
          "base_uri": "https://localhost:8080/"
        },
        "id": "IhG9dwnLjs-J",
        "outputId": "b068e491-1307-43ee-bb31-1cd98935fcf2"
      },
      "outputs": [
        {
          "output_type": "stream",
          "name": "stdout",
          "text": [
            "Files already downloaded and verified\n",
            "Files already downloaded and verified\n",
            "Files already downloaded and verified\n",
            "Files already downloaded and verified\n",
            "Files already downloaded and verified\n",
            "Files already downloaded and verified\n"
          ]
        }
      ],
      "source": [
        "from torch.utils.data import ConcatDataset\n",
        "import torchvision.transforms.functional as F\n",
        "import torch.nn.functional as F1\n",
        "\n",
        "transform1 = transforms.Compose(\n",
        "    [transforms.ToTensor(),\n",
        "     transforms.Normalize((0.5, 0.5, 0.5), (0.5, 0.5, 0.5))])\n",
        "\n",
        "# todo: Implements transforms\n",
        "\n",
        "# Shifting: randomly shift the images up/down and left/right by within 10%.\n",
        "transform2 = transforms.Compose([transforms.ToTensor(),\n",
        "              transforms.RandomAffine(degrees=0, translate=(0.1, 0.1))])\n",
        "\n",
        "\n",
        "# Rotating: randomly rotate the images by some angles.\n",
        "transform3 = transforms.Compose([transforms.ToTensor(),\n",
        "              transforms.RandomRotation(degrees=10)])\n",
        "\n",
        "# Flipping: horizontally flip the images.\n",
        "transform4 = transforms.Compose([transforms.ToTensor(),\n",
        "              transforms.RandomHorizontalFlip(p=0.5)])\n",
        "\n",
        "# Adding Noise: randomly add some small Gaussian noise to the images.\n",
        "transform5 = transforms.Compose([transforms.ToTensor(),\n",
        "               transforms.GaussianBlur(7,3)])\n",
        "\n",
        "transform_list = [transform1, transform2, transform3, transform4, transform5]\n",
        "augmented_dataset = []\n",
        "\n",
        "for t in transform_list:\n",
        "  augmented_dataset.append(datasets.CIFAR10(root='./data/', train=True, download=True, transform=t))\n",
        "\n",
        "\n",
        "cifar_train_dataset = ConcatDataset(augmented_dataset)\n",
        "cifar10_testset = datasets.CIFAR10(root='./data/', train=False, download=True, transform=transform1)\n",
        "cifar_test_loader = DataLoader(cifar10_testset, batch_size=128, shuffle=False)\n",
        "cifar_train_loader = DataLoader(cifar_train_dataset, batch_size=128, shuffle=True)\n"
      ]
    },
    {
      "cell_type": "markdown",
      "metadata": {
        "id": "oeOA4vRbV3Pq"
      },
      "source": [
        "Define a CNN to do classification on CIFAR-10 dataset. You can build a CNN from the previous problem and modify it to take 3-channel images (instead of 1-channel images as it was defined).\n",
        "\n",
        "**Note**: remember to keep the logs of training the different models."
      ]
    },
    {
      "cell_type": "code",
      "execution_count": null,
      "metadata": {
        "colab": {
          "base_uri": "https://localhost:8080/"
        },
        "id": "_cCmUSk0DbP_",
        "outputId": "0bd5cc44-bd4a-4f01-db32-b0065380b422"
      },
      "outputs": [
        {
          "output_type": "stream",
          "name": "stdout",
          "text": [
            "cuda:0\n"
          ]
        }
      ],
      "source": [
        "import torch\n",
        "# use GPU to train if possible\n",
        "device = torch.device(\"cuda:0\" if torch.cuda.is_available() else \"cpu\")\n",
        "print(device)"
      ]
    },
    {
      "cell_type": "markdown",
      "metadata": {
        "id": "FWIdpUo_n65F"
      },
      "source": [
        "(1) Define a CNN using PyTorch to do image classification. Develop the CNN from the previous PyTorch NN tutorial."
      ]
    },
    {
      "cell_type": "code",
      "execution_count": null,
      "metadata": {
        "id": "9oLIMWECnQFm"
      },
      "outputs": [],
      "source": [
        "import torch.nn as nn\n",
        "import torch.nn.functional as F\n",
        "####lenet-5\n",
        "class CNN1(nn.Module):\n",
        "  def __init__(self):\n",
        "    super().__init__()\n",
        "    self.conv1 = nn.Conv2d(in_channels=3, out_channels=6, kernel_size=5)\n",
        "    self.pool = nn.MaxPool2d(kernel_size=2, stride=2)\n",
        "    self.conv2 = nn.Conv2d(in_channels=6, out_channels=16, kernel_size=5)\n",
        "    self.fc1 = nn.Linear(16 * 5 * 5, 120)\n",
        "    self.fc2 = nn.Linear(120, 84)\n",
        "    self.fc3 = nn.Linear(84, 10)\n",
        "\n",
        "  def forward(self, x):\n",
        "    x = self.pool(F.relu(self.conv1(x)))\n",
        "    x = self.pool(F.relu(self.conv2(x)))\n",
        "    x = x.view(-1, 16 * 5 * 5)\n",
        "    x = F.relu(self.fc1(x))\n",
        "    x = F.relu(self.fc2(x))\n",
        "    x = self.fc3(x)\n",
        "    return x\n",
        "\n",
        "cnn1 = CNN1().to(device)\n"
      ]
    },
    {
      "cell_type": "markdown",
      "metadata": {
        "id": "hfi4oC0bhHxg"
      },
      "source": [
        "Define a loss function and optimizer."
      ]
    },
    {
      "cell_type": "code",
      "execution_count": null,
      "metadata": {
        "id": "lIikPKNI7Ep2"
      },
      "outputs": [],
      "source": [
        "import torch.optim as optim\n",
        "criterion = nn.CrossEntropyLoss()\n",
        "optimizer = optim.Adam(cnn1.parameters(), lr=0.001, betas=(0.9, 0.999), eps=1e-08, weight_decay=0)"
      ]
    },
    {
      "cell_type": "markdown",
      "metadata": {
        "id": "bzvExFSVhL3x"
      },
      "source": [
        "Train the network."
      ]
    },
    {
      "cell_type": "code",
      "execution_count": null,
      "metadata": {
        "id": "KmpEdRvDD-Qv"
      },
      "outputs": [],
      "source": [
        "import matplotlib.pyplot as plt\n",
        "\n",
        "def train(model, train_loader, optimizer, criterion, num_epochs):\n",
        "    model.train()\n",
        "    epoch_acc = []\n",
        "    for epoch in range(num_epochs):\n",
        "        running_loss = 0.0\n",
        "        correct_predictions = 0\n",
        "        total_predictions = 0\n",
        "        for i, (images, labels) in enumerate(train_loader):\n",
        "            images = images.to(device)\n",
        "            labels = labels.to(device)\n",
        "\n",
        "            optimizer.zero_grad()\n",
        "\n",
        "            outputs = model(images)\n",
        "            loss = criterion(outputs, labels)\n",
        "            loss.backward()\n",
        "            optimizer.step()\n",
        "\n",
        "            running_loss += loss.item()\n",
        "\n",
        "            # calculate accuracy\n",
        "            _, predicted = torch.max(outputs.data, 1)\n",
        "            correct_predictions += (predicted == labels).sum().item()\n",
        "            total_predictions += labels.size(0)\n",
        "\n",
        "            #if (i+1) % 100 == 0:\n",
        "                #print(f\"Epoch [{epoch+1}/{num_epochs}], Step [{i+1}/{len(train_loader)}], Loss: {running_loss/100:.4f}\")\n",
        "                #running_loss = 0.0\n",
        "        \n",
        "        # print accuracy\n",
        "        accuracy = 100 * correct_predictions / total_predictions\n",
        "        epoch_acc.append(accuracy)\n",
        "        print(f\"Epoch [{epoch+1}/{num_epochs}], Training Accuracy: {accuracy:.2f}%\")\n",
        "    \n",
        "    plt.plot(range(1,num_epochs+1), epoch_acc)\n",
        "    plt.ylim([0, 100])\n",
        "    plt.xlabel('Epoch')\n",
        "    plt.ylabel('Accuracy')\n",
        "    plt.title('Epoch Accuracy Plot')\n",
        "    plt.show()\n"
      ]
    },
    {
      "cell_type": "code",
      "execution_count": null,
      "metadata": {
        "colab": {
          "base_uri": "https://localhost:8080/",
          "height": 1000
        },
        "id": "PECT9PrtlAtr",
        "outputId": "b7e65807-0a2d-4936-f80d-5ceb5b5c5c4c"
      },
      "outputs": [
        {
          "name": "stdout",
          "output_type": "stream",
          "text": [
            "Epoch [1/30], Training Accuracy: 47.36%\n",
            "Epoch [2/30], Training Accuracy: 56.51%\n",
            "Epoch [3/30], Training Accuracy: 60.58%\n",
            "Epoch [4/30], Training Accuracy: 63.33%\n",
            "Epoch [5/30], Training Accuracy: 65.00%\n",
            "Epoch [6/30], Training Accuracy: 66.51%\n",
            "Epoch [7/30], Training Accuracy: 67.68%\n",
            "Epoch [8/30], Training Accuracy: 68.48%\n",
            "Epoch [9/30], Training Accuracy: 69.41%\n",
            "Epoch [10/30], Training Accuracy: 70.09%\n",
            "Epoch [11/30], Training Accuracy: 70.47%\n",
            "Epoch [12/30], Training Accuracy: 71.11%\n",
            "Epoch [13/30], Training Accuracy: 71.37%\n",
            "Epoch [14/30], Training Accuracy: 71.93%\n",
            "Epoch [15/30], Training Accuracy: 72.26%\n",
            "Epoch [16/30], Training Accuracy: 72.58%\n",
            "Epoch [17/30], Training Accuracy: 72.94%\n",
            "Epoch [18/30], Training Accuracy: 73.19%\n",
            "Epoch [19/30], Training Accuracy: 73.42%\n",
            "Epoch [20/30], Training Accuracy: 73.63%\n",
            "Epoch [21/30], Training Accuracy: 73.81%\n",
            "Epoch [22/30], Training Accuracy: 74.17%\n",
            "Epoch [23/30], Training Accuracy: 74.38%\n",
            "Epoch [24/30], Training Accuracy: 74.51%\n",
            "Epoch [25/30], Training Accuracy: 74.60%\n",
            "Epoch [26/30], Training Accuracy: 74.80%\n",
            "Epoch [27/30], Training Accuracy: 75.00%\n",
            "Epoch [28/30], Training Accuracy: 75.11%\n",
            "Epoch [29/30], Training Accuracy: 75.33%\n",
            "Epoch [30/30], Training Accuracy: 75.30%\n"
          ]
        },
        {
          "data": {
            "image/png": "[encoded data removed]",
            "text/plain": [
              "<Figure size 640x480 with 1 Axes>"
            ]
          },
          "metadata": {},
          "output_type": "display_data"
        }
      ],
      "source": [
        "n_epoch = 30\n",
        "train(cnn1, cifar_train_loader, optimizer, criterion, n_epoch)\n",
        "PATH = '/content/drive/MyDrive/model/prob3_cnn1.pth'\n",
        "torch.save(cnn1.state_dict(), PATH)"
      ]
    },
    {
      "cell_type": "code",
      "execution_count": null,
      "metadata": {
        "colab": {
          "base_uri": "https://localhost:8080/"
        },
        "id": "v3npM_PRBKpC",
        "outputId": "f481260e-707a-407a-db0e-9fa010d6043a"
      },
      "outputs": [
        {
          "output_type": "execute_result",
          "data": {
            "text/plain": [
              "<All keys matched successfully>"
            ]
          },
          "metadata": {},
          "execution_count": 14
        }
      ],
      "source": [
        "PATH = '/content/drive/MyDrive/model/prob3_cnn1.pth'\n",
        "cnn1 = CNN1().to(device)\n",
        "cnn1.load_state_dict(torch.load(PATH))"
      ]
    },
    {
      "cell_type": "markdown",
      "metadata": {
        "id": "-RGeRQxR7EqG"
      },
      "source": [
        "Evaluate the classfication performance on the testing set."
      ]
    },
    {
      "cell_type": "code",
      "execution_count": null,
      "metadata": {
        "colab": {
          "base_uri": "https://localhost:8080/"
        },
        "id": "9IERp19p7EqH",
        "outputId": "d5f734bf-f5a5-4a26-dd71-521a47de5cfd"
      },
      "outputs": [
        {
          "output_type": "stream",
          "name": "stdout",
          "text": [
            "Average loss: 0.0113, Test Accuracy:64.39%\n"
          ]
        }
      ],
      "source": [
        "def test(model, test_loader, criterion):\n",
        "    model.eval()\n",
        "    test_loss = 0\n",
        "    correct = 0\n",
        "    with torch.no_grad():\n",
        "        for data, target in test_loader:\n",
        "            data, target = data.to(device), target.to(device)\n",
        "            output = model(data)\n",
        "            test_loss += criterion(output, target).item()\n",
        "            pred = output.argmax(dim=1, keepdim=True)\n",
        "            correct += pred.eq(target.view_as(pred)).sum().item()\n",
        "\n",
        "    test_loss /= len(test_loader.dataset)\n",
        "\n",
        "    print('Average loss: {:.4f}, Test Accuracy:{:.2f}%'.format(\n",
        "        test_loss, 100. * correct / len(test_loader.dataset)))\n",
        "test(cnn1, cifar_test_loader, criterion)"
      ]
    },
    {
      "cell_type": "markdown",
      "metadata": {
        "id": "CFCCqT5LAJ29"
      },
      "source": [
        "(2) Try different network parameters/configurations (at least 5 combinations). \n",
        "\n",
        "You should try to achieve at least **80%** accuracy on the CIFAR-10 testing set using one of your network configuration.\n"
      ]
    },
    {
      "cell_type": "markdown",
      "metadata": {
        "id": "fwR1IkQu1mxe"
      },
      "source": [
        "#### Model 1 \n",
        "*   conv: 2\n",
        "*   Kernel size (conv): 3x3 \n",
        "*   Stride (cov): 1x1\n",
        "*   Dilation: 1x1\n",
        "*   Dropout in FC: 30%\n"
      ]
    },
    {
      "cell_type": "code",
      "execution_count": null,
      "metadata": {
        "id": "nA8-l3uo3FwV"
      },
      "outputs": [],
      "source": [
        "import torch.nn as nn\n",
        "import torch.nn.functional as F\n",
        "\n",
        "class M1(nn.Module):\n",
        "  def __init__(self):\n",
        "    super().__init__()\n",
        "    self.conv1 = nn.Conv2d(in_channels=3, out_channels=16, kernel_size=3, stride=1, padding=1)\n",
        "    self.conv2 = nn.Conv2d(in_channels=16, out_channels=32, kernel_size=3, stride=1, padding=1)\n",
        "    self.pool = nn.MaxPool2d(kernel_size=2, stride=2)\n",
        "    self.fc1 = nn.Linear(in_features=32 * 16 * 16, out_features=256)\n",
        "    self.fc2 = nn.Linear(in_features=256, out_features=10)\n",
        "    self.dropout = nn.Dropout(p=0.3)\n",
        "\n",
        "  def forward(self, x):\n",
        "    x = F.relu(self.conv1(x))\n",
        "    x = self.pool(F.relu(self.conv2(x)))\n",
        "    x = x.view(-1, 32*16*16)\n",
        "    x = self.dropout(F.relu(self.fc1(x)))\n",
        "    x = self.fc2(x)\n",
        "    return x\n",
        "\n",
        "m1 = M1().to(device)\n"
      ]
    },
    {
      "cell_type": "code",
      "execution_count": null,
      "metadata": {
        "colab": {
          "background_save": true,
          "base_uri": "https://localhost:8080/"
        },
        "id": "raeolIXmMvGT",
        "outputId": "ffbccb83-7cdf-4b02-f0cd-95ca0154efed"
      },
      "outputs": [
        {
          "name": "stdout",
          "output_type": "stream",
          "text": [
            "Epoch [1/30], Training Accuracy: 58.14%\n",
            "Epoch [2/30], Training Accuracy: 66.79%\n",
            "Epoch [3/30], Training Accuracy: 70.80%\n",
            "Epoch [4/30], Training Accuracy: 73.62%\n",
            "Epoch [5/30], Training Accuracy: 75.52%\n",
            "Epoch [6/30], Training Accuracy: 77.25%\n",
            "Epoch [7/30], Training Accuracy: 78.38%\n",
            "Epoch [8/30], Training Accuracy: 79.28%\n",
            "Epoch [9/30], Training Accuracy: 80.22%\n",
            "Epoch [10/30], Training Accuracy: 80.83%\n",
            "Epoch [11/30], Training Accuracy: 81.38%\n",
            "Epoch [12/30], Training Accuracy: 81.85%\n",
            "Epoch [13/30], Training Accuracy: 82.15%\n",
            "Epoch [14/30], Training Accuracy: 82.63%\n",
            "Epoch [15/30], Training Accuracy: 82.87%\n",
            "Epoch [16/30], Training Accuracy: 83.30%\n",
            "Epoch [17/30], Training Accuracy: 83.78%\n",
            "Epoch [18/30], Training Accuracy: 83.77%\n",
            "Epoch [19/30], Training Accuracy: 84.21%\n",
            "Epoch [20/30], Training Accuracy: 84.40%\n",
            "Epoch [21/30], Training Accuracy: 84.61%\n",
            "Epoch [22/30], Training Accuracy: 84.64%\n",
            "Epoch [23/30], Training Accuracy: 85.01%\n",
            "Epoch [24/30], Training Accuracy: 85.31%\n",
            "Epoch [25/30], Training Accuracy: 85.30%\n",
            "Epoch [26/30], Training Accuracy: 85.65%\n",
            "Epoch [27/30], Training Accuracy: 85.60%\n",
            "Epoch [28/30], Training Accuracy: 85.84%\n",
            "Epoch [29/30], Training Accuracy: 86.07%\n",
            "Epoch [30/30], Training Accuracy: 86.20%\n"
          ]
        },
        {
          "data": {
            "image/png": "[encoded data removed]",
            "text/plain": [
              "<Figure size 640x480 with 1 Axes>"
            ]
          },
          "metadata": {},
          "output_type": "display_data"
        }
      ],
      "source": [
        "n_epoch = 30\n",
        "optimizer = optim.Adam(m1.parameters(), lr=0.001, betas=(0.9, 0.999), eps=1e-08, weight_decay=0)\n",
        "train(m1, cifar_train_loader, optimizer, criterion, n_epoch)\n",
        "PATH = '/content/drive/MyDrive/model/prob3_m1.pth'\n",
        "torch.save(m1.state_dict(), PATH)"
      ]
    },
    {
      "cell_type": "code",
      "execution_count": null,
      "metadata": {
        "colab": {
          "base_uri": "https://localhost:8080/"
        },
        "id": "Cs1VZa623fE5",
        "outputId": "3b233155-a6b6-4e41-dda6-6cf35834e290"
      },
      "outputs": [
        {
          "name": "stdout",
          "output_type": "stream",
          "text": [
            "Average loss: 0.0128, Test Accuracy:73.56%\n"
          ]
        }
      ],
      "source": [
        "m1 = M1().to(device)\n",
        "PATH = '/content/drive/MyDrive/model/prob3_m1.pth'\n",
        "m1.load_state_dict(torch.load(PATH))\n",
        "test(m1, cifar_test_loader, criterion)"
      ]
    },
    {
      "cell_type": "markdown",
      "metadata": {
        "id": "9qTIG6fUgMhV"
      },
      "source": [
        "#### Model 2\n",
        "*   conv: 9\n",
        "*   Kernel size (conv): 3x3 \n",
        "*   Stride (cov): 1x1\n",
        "*   Dilation: 1x1\n",
        "*   Dropout in FC: 30%"
      ]
    },
    {
      "cell_type": "code",
      "execution_count": null,
      "metadata": {
        "id": "sOoFSn49YYHg"
      },
      "outputs": [],
      "source": [
        "class M2(nn.Module):\n",
        "  def __init__(self):\n",
        "    super().__init__()\n",
        "    self.conv1 = nn.Conv2d(in_channels=3, out_channels=16, kernel_size=3, stride=1, padding=1)\n",
        "    self.conv2 = nn.Conv2d(in_channels=16, out_channels=32, kernel_size=3, stride=1, padding=1)\n",
        "    self.conv3 = nn.Conv2d(in_channels=32, out_channels=64, kernel_size=3, stride=1, padding=1)\n",
        "    self.conv4 = nn.Conv2d(in_channels=64, out_channels=128, kernel_size=3, stride=1, padding=1)\n",
        "    self.conv5 = nn.Conv2d(in_channels=128, out_channels=256, kernel_size=3, stride=1, padding=1)\n",
        "    self.conv6 = nn.Conv2d(in_channels=256, out_channels=512, kernel_size=3, stride=1, padding=1)\n",
        "    self.conv7 = nn.Conv2d(in_channels=512, out_channels=1024, kernel_size=3, stride=1, padding=1)\n",
        "    self.conv8 = nn.Conv2d(in_channels=1024, out_channels=2048, kernel_size=3, stride=1, padding=1)\n",
        "    self.conv9 = nn.Conv2d(in_channels=2048, out_channels=4096, kernel_size=3, stride=1, padding=1)\n",
        "    self.pool = nn.MaxPool2d(kernel_size=2, stride=2)\n",
        "    self.fc1 = nn.Linear(in_features=4096 * 2 * 2, out_features=1024)\n",
        "    self.fc2 = nn.Linear(in_features=1024, out_features=256)\n",
        "    self.fc3 = nn.Linear(in_features=256, out_features=10)\n",
        "    self.dropout = nn.Dropout(p=0.3)\n",
        "\n",
        "  def forward(self, x):\n",
        "    x = F.relu(self.conv1(x))\n",
        "    x = self.pool(F.relu(self.conv2(x)))\n",
        "    x = F.relu(self.conv3(x))\n",
        "    x = self.pool(F.relu(self.conv4(x)))\n",
        "    x = F.relu(self.conv5(x))\n",
        "    x = self.pool(F.relu(self.conv6(x)))\n",
        "    x = F.relu(self.conv7(x))\n",
        "    x = self.pool(F.relu(self.conv8(x)))\n",
        "    x = F.relu(self.conv9(x))\n",
        "    x = x.view(-1, 4096*2*2)\n",
        "    x = self.dropout(F.relu(self.fc1(x)))\n",
        "    x = self.dropout(F.relu(self.fc2(x)))\n",
        "    x = self.fc3(x)\n",
        "    return x\n",
        "\n",
        "m2 = M2().to(device)"
      ]
    },
    {
      "cell_type": "code",
      "execution_count": null,
      "metadata": {
        "colab": {
          "base_uri": "https://localhost:8080/",
          "height": 1000
        },
        "id": "6x_wIo1VgPMI",
        "outputId": "216c105e-f9a6-4248-fae1-e994221d7314"
      },
      "outputs": [
        {
          "name": "stdout",
          "output_type": "stream",
          "text": [
            "Epoch [1/30], Training Accuracy: 50.07%\n",
            "Epoch [2/30], Training Accuracy: 68.75%\n",
            "Epoch [3/30], Training Accuracy: 75.64%\n",
            "Epoch [4/30], Training Accuracy: 79.37%\n",
            "Epoch [5/30], Training Accuracy: 82.08%\n",
            "Epoch [6/30], Training Accuracy: 83.91%\n",
            "Epoch [7/30], Training Accuracy: 85.38%\n",
            "Epoch [8/30], Training Accuracy: 86.47%\n",
            "Epoch [9/30], Training Accuracy: 87.32%\n",
            "Epoch [10/30], Training Accuracy: 88.03%\n",
            "Epoch [11/30], Training Accuracy: 88.78%\n",
            "Epoch [12/30], Training Accuracy: 89.10%\n",
            "Epoch [13/30], Training Accuracy: 89.48%\n",
            "Epoch [14/30], Training Accuracy: 90.13%\n",
            "Epoch [15/30], Training Accuracy: 90.35%\n",
            "Epoch [16/30], Training Accuracy: 90.54%\n",
            "Epoch [17/30], Training Accuracy: 90.96%\n",
            "Epoch [18/30], Training Accuracy: 91.08%\n",
            "Epoch [19/30], Training Accuracy: 83.56%\n",
            "Epoch [20/30], Training Accuracy: 91.23%\n",
            "Epoch [21/30], Training Accuracy: 91.75%\n",
            "Epoch [22/30], Training Accuracy: 86.56%\n",
            "Epoch [23/30], Training Accuracy: 91.77%\n",
            "Epoch [24/30], Training Accuracy: 92.26%\n",
            "Epoch [25/30], Training Accuracy: 92.49%\n",
            "Epoch [26/30], Training Accuracy: 92.68%\n",
            "Epoch [27/30], Training Accuracy: 92.51%\n",
            "Epoch [28/30], Training Accuracy: 92.49%\n",
            "Epoch [29/30], Training Accuracy: 88.20%\n",
            "Epoch [30/30], Training Accuracy: 92.43%\n"
          ]
        },
        {
          "data": {
            "image/png": "[encoded data removed]",
            "text/plain": [
              "<Figure size 640x480 with 1 Axes>"
            ]
          },
          "metadata": {},
          "output_type": "display_data"
        }
      ],
      "source": [
        "n_epoch = 30\n",
        "optimizer = optim.Adam(m2.parameters(), lr=0.001, betas=(0.9, 0.999), eps=1e-08, weight_decay=0)\n",
        "train(m2, cifar_train_loader, optimizer, criterion, n_epoch)\n",
        "PATH = '/content/drive/MyDrive/model/prob3_m2.pth'\n",
        "torch.save(m2.state_dict(), PATH)"
      ]
    },
    {
      "cell_type": "code",
      "execution_count": null,
      "metadata": {
        "colab": {
          "base_uri": "https://localhost:8080/"
        },
        "id": "GgvV0WoggfcD",
        "outputId": "ca5c2b33-3bdf-42c9-95f8-389592bb1925"
      },
      "outputs": [
        {
          "name": "stdout",
          "output_type": "stream",
          "text": [
            "Average loss: 0.0086, Test Accuracy:80.13%\n"
          ]
        }
      ],
      "source": [
        "m2 = M2().to(device)\n",
        "PATH = '/content/drive/MyDrive/model/prob3_m2.pth'\n",
        "m2.load_state_dict(torch.load(PATH))\n",
        "test(m2, cifar_test_loader, criterion)"
      ]
    },
    {
      "cell_type": "markdown",
      "metadata": {
        "id": "qsGX77O5KKst"
      },
      "source": [
        "#### Model 3\n",
        "*   conv: 2\n",
        "*   Kernel size (conv): 5x5 \n",
        "*   Stride (cov): 1x1\n",
        "*   Dilation: 1x1\n",
        "*   Dropout in FC: 0%"
      ]
    },
    {
      "cell_type": "code",
      "execution_count": null,
      "metadata": {
        "id": "jIoSfNTiYHkX"
      },
      "outputs": [],
      "source": [
        "class M3(nn.Module):\n",
        "    def __init__(self):\n",
        "        super().__init__()\n",
        "        self.conv1 = nn.Conv2d(3, 16, 5, padding=2)\n",
        "        self.conv2 = nn.Conv2d(16, 32, 5, padding=2)\n",
        "        self.pool = nn.MaxPool2d(2, 2)\n",
        "        self.fc1 = nn.Linear(32*16*16, 256)\n",
        "        self.fc2 = nn.Linear(256, 10)\n",
        "\n",
        "    def forward(self, x):\n",
        "        x = F.relu(self.conv1(x))\n",
        "        x = self.pool(F.relu(self.conv2(x)))\n",
        "        x = x.view(-1, 32*16*16)\n",
        "        x = F.relu(self.fc1(x))\n",
        "        x = self.fc2(x)\n",
        "        return x\n",
        "\n",
        "m3 = M3().to(device)\n"
      ]
    },
    {
      "cell_type": "code",
      "execution_count": null,
      "metadata": {
        "colab": {
          "base_uri": "https://localhost:8080/",
          "height": 1000
        },
        "id": "9DsEwqP2gH87",
        "outputId": "965d1233-0a0e-4120-a538-67771999c0a6"
      },
      "outputs": [
        {
          "name": "stdout",
          "output_type": "stream",
          "text": [
            "Epoch [1/30], Training Accuracy: 56.89%\n",
            "Epoch [2/30], Training Accuracy: 69.80%\n",
            "Epoch [3/30], Training Accuracy: 75.73%\n",
            "Epoch [4/30], Training Accuracy: 79.69%\n",
            "Epoch [5/30], Training Accuracy: 82.16%\n",
            "Epoch [6/30], Training Accuracy: 83.98%\n",
            "Epoch [7/30], Training Accuracy: 85.18%\n",
            "Epoch [8/30], Training Accuracy: 86.23%\n",
            "Epoch [9/30], Training Accuracy: 86.96%\n",
            "Epoch [10/30], Training Accuracy: 87.75%\n",
            "Epoch [11/30], Training Accuracy: 88.20%\n",
            "Epoch [12/30], Training Accuracy: 88.76%\n",
            "Epoch [13/30], Training Accuracy: 89.17%\n",
            "Epoch [14/30], Training Accuracy: 89.54%\n",
            "Epoch [15/30], Training Accuracy: 89.79%\n",
            "Epoch [16/30], Training Accuracy: 90.17%\n",
            "Epoch [17/30], Training Accuracy: 90.61%\n",
            "Epoch [18/30], Training Accuracy: 90.78%\n",
            "Epoch [19/30], Training Accuracy: 91.06%\n",
            "Epoch [20/30], Training Accuracy: 91.40%\n",
            "Epoch [21/30], Training Accuracy: 91.48%\n",
            "Epoch [22/30], Training Accuracy: 91.72%\n",
            "Epoch [23/30], Training Accuracy: 91.98%\n",
            "Epoch [24/30], Training Accuracy: 91.99%\n",
            "Epoch [25/30], Training Accuracy: 92.35%\n",
            "Epoch [26/30], Training Accuracy: 92.39%\n",
            "Epoch [27/30], Training Accuracy: 92.64%\n",
            "Epoch [28/30], Training Accuracy: 92.73%\n",
            "Epoch [29/30], Training Accuracy: 92.89%\n",
            "Epoch [30/30], Training Accuracy: 92.96%\n"
          ]
        },
        {
          "data": {
            "image/png": "[encoded data removed]",
            "text/plain": [
              "<Figure size 640x480 with 1 Axes>"
            ]
          },
          "metadata": {},
          "output_type": "display_data"
        }
      ],
      "source": [
        "n_epoch=30\n",
        "optimizer = optim.Adam(m3.parameters(), lr=0.001, betas=(0.9, 0.999), eps=1e-08, weight_decay=0)\n",
        "train(m3, cifar_train_loader, optimizer, criterion, n_epoch)\n",
        "PATH = '/content/drive/MyDrive/model/prob3_m3.pth'\n",
        "torch.save(m3.state_dict(), PATH)"
      ]
    },
    {
      "cell_type": "code",
      "execution_count": null,
      "metadata": {
        "colab": {
          "base_uri": "https://localhost:8080/"
        },
        "id": "4Y6QfG17fjFU",
        "outputId": "c0c27192-8655-429f-df2a-dcff6ed4c801"
      },
      "outputs": [
        {
          "name": "stdout",
          "output_type": "stream",
          "text": [
            "Average loss: 0.0211, Test Accuracy:70.77%\n"
          ]
        }
      ],
      "source": [
        "PATH = '/content/drive/MyDrive/model/prob3_m3.pth'\n",
        "m3 = M3().to(device)\n",
        "m3.load_state_dict(torch.load(PATH))\n",
        "test(m3, cifar_test_loader, criterion)"
      ]
    },
    {
      "cell_type": "markdown",
      "metadata": {
        "id": "fpmQWVOcfocJ"
      },
      "source": [
        "#### Model 4\n",
        "*   conv: 5\n",
        "*   Kernel size (conv): 3x3 \n",
        "*   Stride (cov): 1x1\n",
        "*   Dilation: 1x1\n",
        "*   Dropout in FC: 0%"
      ]
    },
    {
      "cell_type": "code",
      "execution_count": null,
      "metadata": {
        "id": "6tfL2qy7YI7S"
      },
      "outputs": [],
      "source": [
        "class M4(nn.Module):\n",
        "  def __init__(self):\n",
        "    super().__init__()\n",
        "    self.conv1 = nn.Conv2d(in_channels=3, out_channels=16, kernel_size=3, stride=1, padding=1)\n",
        "    self.conv2 = nn.Conv2d(in_channels=16, out_channels=32, kernel_size=3, stride=1, padding=1)\n",
        "    self.conv3 = nn.Conv2d(in_channels=32, out_channels=64, kernel_size=3, stride=1, padding=1)\n",
        "    self.conv4 = nn.Conv2d(in_channels=64, out_channels=128, kernel_size=3, stride=1, padding=1)\n",
        "    self.conv5 = nn.Conv2d(in_channels=128, out_channels=256, kernel_size=3, stride=1, padding=1)\n",
        "    self.pool = nn.MaxPool2d(kernel_size=2, stride=2)\n",
        "    self.fc1 = nn.Linear(in_features=256 * 4 * 4, out_features=1024)\n",
        "    self.fc2 = nn.Linear(in_features=1024, out_features=256)\n",
        "    self.fc3 = nn.Linear(in_features=256, out_features=10)\n",
        "\n",
        "  def forward(self, x):\n",
        "    x = F.relu(self.conv1(x))\n",
        "    x = self.pool(F.relu(self.conv2(x)))\n",
        "    x = F.relu(self.conv3(x))\n",
        "    x = self.pool(F.relu(self.conv4(x)))\n",
        "    x = self.pool(F.relu(self.conv5(x)))\n",
        "    x = x.view(-1, 256 * 4 * 4)\n",
        "    x = F.relu(self.fc1(x))\n",
        "    x = F.relu(self.fc2(x))\n",
        "    x = self.fc3(x)\n",
        "    return x\n",
        "m4 = M4().to(device)"
      ]
    },
    {
      "cell_type": "code",
      "execution_count": null,
      "metadata": {
        "colab": {
          "base_uri": "https://localhost:8080/",
          "height": 1000
        },
        "id": "Woo9ThQfgFu7",
        "outputId": "720bc0d9-b14b-4650-f01e-d6357800f4ac"
      },
      "outputs": [
        {
          "name": "stdout",
          "output_type": "stream",
          "text": [
            "Epoch [1/30], Training Accuracy: 55.70%\n",
            "Epoch [2/30], Training Accuracy: 75.34%\n",
            "Epoch [3/30], Training Accuracy: 82.68%\n",
            "Epoch [4/30], Training Accuracy: 87.07%\n",
            "Epoch [5/30], Training Accuracy: 89.68%\n",
            "Epoch [6/30], Training Accuracy: 91.33%\n",
            "Epoch [7/30], Training Accuracy: 92.41%\n",
            "Epoch [8/30], Training Accuracy: 93.31%\n",
            "Epoch [9/30], Training Accuracy: 93.91%\n",
            "Epoch [10/30], Training Accuracy: 94.29%\n",
            "Epoch [11/30], Training Accuracy: 94.74%\n",
            "Epoch [12/30], Training Accuracy: 95.10%\n",
            "Epoch [13/30], Training Accuracy: 95.35%\n",
            "Epoch [14/30], Training Accuracy: 95.56%\n",
            "Epoch [15/30], Training Accuracy: 95.81%\n",
            "Epoch [16/30], Training Accuracy: 95.98%\n",
            "Epoch [17/30], Training Accuracy: 96.18%\n",
            "Epoch [18/30], Training Accuracy: 96.25%\n",
            "Epoch [19/30], Training Accuracy: 96.39%\n",
            "Epoch [20/30], Training Accuracy: 96.44%\n",
            "Epoch [21/30], Training Accuracy: 96.60%\n",
            "Epoch [22/30], Training Accuracy: 96.61%\n",
            "Epoch [23/30], Training Accuracy: 96.73%\n",
            "Epoch [24/30], Training Accuracy: 96.87%\n",
            "Epoch [25/30], Training Accuracy: 96.86%\n",
            "Epoch [26/30], Training Accuracy: 96.93%\n",
            "Epoch [27/30], Training Accuracy: 97.06%\n",
            "Epoch [28/30], Training Accuracy: 97.05%\n",
            "Epoch [29/30], Training Accuracy: 97.14%\n",
            "Epoch [30/30], Training Accuracy: 97.15%\n"
          ]
        },
        {
          "data": {
            "image/png": "[encoded data removed]",
            "text/plain": [
              "<Figure size 640x480 with 1 Axes>"
            ]
          },
          "metadata": {},
          "output_type": "display_data"
        }
      ],
      "source": [
        "n_epoch=30\n",
        "optimizer = optim.Adam(m4.parameters(), lr=0.001, betas=(0.9, 0.999), eps=1e-08, weight_decay=0)\n",
        "train(m4, cifar_train_loader, optimizer, criterion, n_epoch)\n",
        "PATH = '/content/drive/MyDrive/model/prob3_m4.pth'\n",
        "torch.save(m4.state_dict(), PATH)"
      ]
    },
    {
      "cell_type": "code",
      "execution_count": null,
      "metadata": {
        "colab": {
          "base_uri": "https://localhost:8080/"
        },
        "id": "kFo7UC9EgSVi",
        "outputId": "85f5240e-733a-4bae-ec59-ca822ce01885"
      },
      "outputs": [
        {
          "output_type": "stream",
          "name": "stdout",
          "text": [
            "Average loss: 0.0132, Test Accuracy:79.37%\n"
          ]
        }
      ],
      "source": [
        "PATH = '/content/drive/MyDrive/model/prob3_m4.pth'\n",
        "m4 = M4().to(device)\n",
        "m4.load_state_dict(torch.load(PATH))\n",
        "test(m4, cifar_test_loader, criterion)"
      ]
    },
    {
      "cell_type": "markdown",
      "metadata": {
        "id": "AabXh0kVfrFB"
      },
      "source": [
        "#### Model 5\n",
        "*   conv: 5\n",
        "*   Kernel size (conv): 3x3 \n",
        "*   Stride (cov): 1x1\n",
        "*   Dilation: 1x1\n",
        "*   Dropout in FC: 30%"
      ]
    },
    {
      "cell_type": "code",
      "execution_count": null,
      "metadata": {
        "id": "rki4dHvaYSyb"
      },
      "outputs": [],
      "source": [
        "class M5(nn.Module):\n",
        "  def __init__(self):\n",
        "    super().__init__()\n",
        "    self.conv1 = nn.Conv2d(in_channels=3, out_channels=16, kernel_size=3, stride=1, padding=1)\n",
        "    self.conv2 = nn.Conv2d(in_channels=16, out_channels=32, kernel_size=3, stride=1, padding=1)\n",
        "    self.conv3 = nn.Conv2d(in_channels=32, out_channels=64, kernel_size=3, stride=1, padding=1)\n",
        "    self.conv4 = nn.Conv2d(in_channels=64, out_channels=128, kernel_size=3, stride=1, padding=1)\n",
        "    self.conv5 = nn.Conv2d(in_channels=128, out_channels=256, kernel_size=3, stride=1, padding=1)\n",
        "    self.pool = nn.MaxPool2d(kernel_size=2, stride=2)\n",
        "    self.fc1 = nn.Linear(in_features=256 * 4 * 4, out_features=1024)\n",
        "    self.fc2 = nn.Linear(in_features=1024, out_features=256)\n",
        "    self.fc3 = nn.Linear(in_features=256, out_features=10)\n",
        "    self.dropout = nn.Dropout(p=0.3)\n",
        "  def forward(self, x):\n",
        "    x = F.relu(self.conv1(x))\n",
        "    x = self.pool(F.relu(self.conv2(x)))\n",
        "    x = F.relu(self.conv3(x))\n",
        "    x = self.pool(F.relu(self.conv4(x)))\n",
        "    x = self.pool(F.relu(self.conv5(x)))\n",
        "    x = x.view(-1, 256 * 4 * 4)\n",
        "    x = F.relu(self.fc1(x))\n",
        "    x = F.relu(self.fc2(x))\n",
        "    x = self.fc3(x)\n",
        "    return x\n",
        "m5 = M5().to(device)"
      ]
    },
    {
      "cell_type": "code",
      "execution_count": null,
      "metadata": {
        "colab": {
          "base_uri": "https://localhost:8080/",
          "height": 1000
        },
        "id": "moMcFR2BgKlj",
        "outputId": "b14c0a9d-f895-4d30-e954-11238c5c6e29"
      },
      "outputs": [
        {
          "output_type": "stream",
          "name": "stdout",
          "text": [
            "Epoch [1/30], Training Accuracy: 65.83%\n",
            "Epoch [2/30], Training Accuracy: 79.80%\n",
            "Epoch [3/30], Training Accuracy: 85.96%\n",
            "Epoch [4/30], Training Accuracy: 89.49%\n",
            "Epoch [5/30], Training Accuracy: 91.55%\n",
            "Epoch [6/30], Training Accuracy: 92.78%\n",
            "Epoch [7/30], Training Accuracy: 93.72%\n",
            "Epoch [8/30], Training Accuracy: 94.36%\n",
            "Epoch [9/30], Training Accuracy: 94.89%\n",
            "Epoch [10/30], Training Accuracy: 95.42%\n",
            "Epoch [11/30], Training Accuracy: 95.67%\n",
            "Epoch [12/30], Training Accuracy: 95.95%\n",
            "Epoch [13/30], Training Accuracy: 96.18%\n",
            "Epoch [14/30], Training Accuracy: 96.35%\n",
            "Epoch [15/30], Training Accuracy: 96.47%\n",
            "Epoch [16/30], Training Accuracy: 96.62%\n",
            "Epoch [17/30], Training Accuracy: 96.77%\n",
            "Epoch [18/30], Training Accuracy: 96.90%\n",
            "Epoch [19/30], Training Accuracy: 96.94%\n",
            "Epoch [20/30], Training Accuracy: 97.04%\n",
            "Epoch [21/30], Training Accuracy: 97.16%\n",
            "Epoch [22/30], Training Accuracy: 97.19%\n",
            "Epoch [23/30], Training Accuracy: 97.31%\n",
            "Epoch [24/30], Training Accuracy: 97.31%\n",
            "Epoch [25/30], Training Accuracy: 97.35%\n",
            "Epoch [26/30], Training Accuracy: 97.44%\n",
            "Epoch [27/30], Training Accuracy: 97.54%\n",
            "Epoch [28/30], Training Accuracy: 97.51%\n",
            "Epoch [29/30], Training Accuracy: 97.58%\n",
            "Epoch [30/30], Training Accuracy: 97.73%\n"
          ]
        },
        {
          "output_type": "display_data",
          "data": {
            "text/plain": [
              "<Figure size 640x480 with 1 Axes>"
            ],
            "image/png": "[encoded data removed]"
          },
          "metadata": {}
        }
      ],
      "source": [
        "n_epoch=30\n",
        "optimizer = optim.Adam(m5.parameters(), lr=0.001, betas=(0.9, 0.999), eps=1e-08, weight_decay=0)\n",
        "train(m5, cifar_train_loader, optimizer, criterion, n_epoch)\n",
        "PATH = '/content/drive/MyDrive/model/prob3_m5.pth'\n",
        "torch.save(m5.state_dict(), PATH)"
      ]
    },
    {
      "cell_type": "code",
      "execution_count": null,
      "metadata": {
        "id": "d0kSCpvPgb27",
        "colab": {
          "base_uri": "https://localhost:8080/"
        },
        "outputId": "017408fa-5380-4681-d491-e7e8df63ebf9"
      },
      "outputs": [
        {
          "output_type": "stream",
          "name": "stdout",
          "text": [
            "Average loss: 0.0138, Test Accuracy:80.39%\n"
          ]
        }
      ],
      "source": [
        "PATH = '/content/drive/MyDrive/model/prob3_m5.pth'\n",
        "m5 = M5().to(device)\n",
        "m5.load_state_dict(torch.load(PATH))\n",
        "test(m5, cifar_test_loader, criterion)"
      ]
    },
    {
      "cell_type": "markdown",
      "metadata": {
        "id": "S2RLIjq3nfoC"
      },
      "source": [
        "Performances using different configurations\n",
        "\n",
        "todo: past your performance v.s different network configurations in a table."
      ]
    },
    {
      "cell_type": "markdown",
      "source": [
        "![image.png](data:image/png;base64,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)"
      ],
      "metadata": {
        "id": "PRKMBGFD5EJk"
      }
    },
    {
      "cell_type": "markdown",
      "source": [
        "LeNet-5 and model_3 has different architecture, \n",
        " \n",
        "\n",
        "1.   LeNet-5 has three fully connected layers and uses Sigmoid activation function\n",
        "2.   model_3 has two fully connected layers and uses ReLU activation function\n",
        "\n"
      ],
      "metadata": {
        "id": "FPsDAKho5H7A"
      }
    },
    {
      "cell_type": "markdown",
      "metadata": {
        "id": "gsOEhNpuzhlg"
      },
      "source": [
        "####  Discussion"
      ]
    },
    {
      "cell_type": "markdown",
      "metadata": {
        "id": "frupe8HZ1ylk"
      },
      "source": [
        "(1) Which framework can achieve higher accuracy, MLP or CNN? Briefly explain the reason.\n",
        "\n",
        "(2) Based on your experiments in Problem3, which parameter can potentially affect your performance most?\n",
        "\n"
      ]
    },
    {
      "cell_type": "markdown",
      "metadata": {
        "id": "kk06fPUELgvX"
      },
      "source": [
        "\n",
        "\n",
        "1.   CNNs generally achieve higher accuracy than MLPs in image recognition tasks because they can learn spatial features \n",
        "through convolutional layers and pooling operations. MLPs, \n",
        "on the other hand, treat input data as a flat vector and do not exploit the inherent spatial structure of images.\n",
        "2.   the number of convolution layers affects the most\n",
        "\n"
      ]
    }
  ],
  "metadata": {
    "accelerator": "GPU",
    "colab": {
      "collapsed_sections": [
        "fwR1IkQu1mxe",
        "9qTIG6fUgMhV"
      ],
      "machine_shape": "hm",
      "provenance": []
    },
    "gpuClass": "standard",
    "kernelspec": {
      "display_name": "Python 3",
      "language": "python",
      "name": "python3"
    },
    "language_info": {
      "codemirror_mode": {
        "name": "ipython",
        "version": 3
      },
      "file_extension": ".py",
      "mimetype": "text/x-python",
      "name": "python",
      "nbconvert_exporter": "python",
      "pygments_lexer": "ipython3",
      "version": "3.7.7"
    }
  },
  "nbformat": 4,
  "nbformat_minor": 0
}